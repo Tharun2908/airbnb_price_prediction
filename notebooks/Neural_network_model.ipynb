{
 "cells": [
  {
   "cell_type": "code",
   "execution_count": 55,
   "id": "6d8a83bd-76f9-43e2-b852-ca8deb1ebbcf",
   "metadata": {},
   "outputs": [],
   "source": [
    "import pandas as pd\n",
    "import numpy as np\n",
    "import matplotlib.pyplot as plt\n",
    "from sklearn.model_selection import train_test_split\n",
    "from sklearn.preprocessing import StandardScaler\n",
    "from sklearn.metrics import mean_absolute_error, mean_squared_error, r2_score"
   ]
  },
  {
   "cell_type": "code",
   "execution_count": 3,
   "id": "08984b5a-060d-451b-be6a-b9b88ddf24ef",
   "metadata": {},
   "outputs": [],
   "source": [
    "import tensorflow as tf\n",
    "from tensorflow.keras.models import Sequential\n",
    "from tensorflow.keras.layers import Dense, Activation\n",
    "from tensorflow.keras.optimizers import Adam"
   ]
  },
  {
   "cell_type": "code",
   "execution_count": 7,
   "id": "5ce167a6-fd08-40ba-83a3-e197f677e604",
   "metadata": {},
   "outputs": [],
   "source": [
    "df = pd.read_csv(\"../data/clean_airbnb_data.csv\")"
   ]
  },
  {
   "cell_type": "code",
   "execution_count": 8,
   "id": "c162905b-c22d-4810-a124-c47b84cce588",
   "metadata": {},
   "outputs": [],
   "source": [
    "X = df.drop('price',axis=1)\n",
    "y = df[\"price\"]"
   ]
  },
  {
   "cell_type": "code",
   "execution_count": 9,
   "id": "e2329e0c-ee95-4793-94f6-6611300bc42e",
   "metadata": {},
   "outputs": [],
   "source": [
    "X_train, X_test, y_train, y_test = train_test_split(X, y, test_size=0.2, random_state=42)"
   ]
  },
  {
   "cell_type": "code",
   "execution_count": 10,
   "id": "005550c0-d1a8-48ea-9132-80b240937fbb",
   "metadata": {},
   "outputs": [],
   "source": [
    "scaler = StandardScaler()"
   ]
  },
  {
   "cell_type": "code",
   "execution_count": 11,
   "id": "c4e4f7ae-6863-4874-b2bb-014ff4e005a6",
   "metadata": {},
   "outputs": [],
   "source": [
    "X_train_scaled = scaler.fit_transform(X_train)"
   ]
  },
  {
   "cell_type": "code",
   "execution_count": 12,
   "id": "5df30046-dca8-488b-86ed-2f2a50a2b270",
   "metadata": {},
   "outputs": [],
   "source": [
    "X_test_scaled = scaler.transform(X_test)"
   ]
  },
  {
   "cell_type": "code",
   "execution_count": 16,
   "id": "a695e541-a7fc-4f60-a824-4cecdf158bfe",
   "metadata": {},
   "outputs": [
    {
     "data": {
      "text/plain": [
       "(5657, 31)"
      ]
     },
     "execution_count": 16,
     "metadata": {},
     "output_type": "execute_result"
    }
   ],
   "source": [
    "X_train_scaled.shape"
   ]
  },
  {
   "cell_type": "code",
   "execution_count": 17,
   "id": "a5f62387-876f-435e-a255-9c706dfb69e6",
   "metadata": {},
   "outputs": [
    {
     "data": {
      "text/plain": [
       "(1415, 31)"
      ]
     },
     "execution_count": 17,
     "metadata": {},
     "output_type": "execute_result"
    }
   ],
   "source": [
    "X_test_scaled.shape"
   ]
  },
  {
   "cell_type": "code",
   "execution_count": 21,
   "id": "4ce59867-f45a-4c40-b7ae-305a9c5f503b",
   "metadata": {},
   "outputs": [],
   "source": [
    "model = Sequential()\n",
    "\n",
    "model.add(Dense(31,activation='relu'))\n",
    "model.add(Dense(31,activation='relu'))\n",
    "model.add(Dense(31,activation='relu'))\n",
    "model.add(Dense(1))\n",
    "\n",
    "model.compile(optimizer='adam',loss='mse',metrics=['mae'])"
   ]
  },
  {
   "cell_type": "code",
   "execution_count": 22,
   "id": "0e3f4a22-d8cf-4abb-8f8c-6777ca789ec2",
   "metadata": {},
   "outputs": [],
   "source": [
    "from tensorflow.keras.callbacks import EarlyStopping"
   ]
  },
  {
   "cell_type": "code",
   "execution_count": 23,
   "id": "a049f0c6-5e4a-47b8-b178-b1cfa8b0a51a",
   "metadata": {},
   "outputs": [],
   "source": [
    "early_stop = EarlyStopping(\n",
    "    monitor='val_loss',\n",
    "    patience=5,             \n",
    "    restore_best_weights=True\n",
    ")"
   ]
  },
  {
   "cell_type": "code",
   "execution_count": 24,
   "id": "b54f317e-b1fb-4685-8cb4-6822d9ef731a",
   "metadata": {},
   "outputs": [
    {
     "name": "stdout",
     "output_type": "stream",
     "text": [
      "Epoch 1/200\n",
      "\u001b[1m89/89\u001b[0m \u001b[32m━━━━━━━━━━━━━━━━━━━━\u001b[0m\u001b[37m\u001b[0m \u001b[1m3s\u001b[0m 9ms/step - loss: 25225.6895 - mae: 131.8254 - val_loss: 20847.9668 - val_mae: 109.2606\n",
      "Epoch 2/200\n",
      "\u001b[1m89/89\u001b[0m \u001b[32m━━━━━━━━━━━━━━━━━━━━\u001b[0m\u001b[37m\u001b[0m \u001b[1m1s\u001b[0m 6ms/step - loss: 11954.1133 - mae: 75.4625 - val_loss: 5123.5469 - val_mae: 43.9614\n",
      "Epoch 3/200\n",
      "\u001b[1m89/89\u001b[0m \u001b[32m━━━━━━━━━━━━━━━━━━━━\u001b[0m\u001b[37m\u001b[0m \u001b[1m1s\u001b[0m 6ms/step - loss: 4312.8638 - mae: 41.7559 - val_loss: 4958.6606 - val_mae: 42.6495\n",
      "Epoch 4/200\n",
      "\u001b[1m89/89\u001b[0m \u001b[32m━━━━━━━━━━━━━━━━━━━━\u001b[0m\u001b[37m\u001b[0m \u001b[1m1s\u001b[0m 6ms/step - loss: 4019.5449 - mae: 40.2841 - val_loss: 4938.9624 - val_mae: 42.3539\n",
      "Epoch 5/200\n",
      "\u001b[1m89/89\u001b[0m \u001b[32m━━━━━━━━━━━━━━━━━━━━\u001b[0m\u001b[37m\u001b[0m \u001b[1m1s\u001b[0m 5ms/step - loss: 3667.3411 - mae: 38.6172 - val_loss: 4866.8242 - val_mae: 42.8183\n",
      "Epoch 6/200\n",
      "\u001b[1m89/89\u001b[0m \u001b[32m━━━━━━━━━━━━━━━━━━━━\u001b[0m\u001b[37m\u001b[0m \u001b[1m0s\u001b[0m 5ms/step - loss: 3864.4832 - mae: 39.4389 - val_loss: 4835.7974 - val_mae: 42.2602\n",
      "Epoch 7/200\n",
      "\u001b[1m89/89\u001b[0m \u001b[32m━━━━━━━━━━━━━━━━━━━━\u001b[0m\u001b[37m\u001b[0m \u001b[1m0s\u001b[0m 5ms/step - loss: 3621.3799 - mae: 39.3835 - val_loss: 4818.4736 - val_mae: 42.0298\n",
      "Epoch 8/200\n",
      "\u001b[1m89/89\u001b[0m \u001b[32m━━━━━━━━━━━━━━━━━━━━\u001b[0m\u001b[37m\u001b[0m \u001b[1m0s\u001b[0m 5ms/step - loss: 4045.5774 - mae: 40.2478 - val_loss: 4791.3335 - val_mae: 41.6148\n",
      "Epoch 9/200\n",
      "\u001b[1m89/89\u001b[0m \u001b[32m━━━━━━━━━━━━━━━━━━━━\u001b[0m\u001b[37m\u001b[0m \u001b[1m1s\u001b[0m 8ms/step - loss: 3737.2048 - mae: 38.3703 - val_loss: 4750.1421 - val_mae: 41.9540\n",
      "Epoch 10/200\n",
      "\u001b[1m89/89\u001b[0m \u001b[32m━━━━━━━━━━━━━━━━━━━━\u001b[0m\u001b[37m\u001b[0m \u001b[1m1s\u001b[0m 5ms/step - loss: 4055.6511 - mae: 39.9352 - val_loss: 4743.4365 - val_mae: 41.6340\n",
      "Epoch 11/200\n",
      "\u001b[1m89/89\u001b[0m \u001b[32m━━━━━━━━━━━━━━━━━━━━\u001b[0m\u001b[37m\u001b[0m \u001b[1m0s\u001b[0m 5ms/step - loss: 3861.7817 - mae: 39.0149 - val_loss: 4745.4727 - val_mae: 41.6700\n",
      "Epoch 12/200\n",
      "\u001b[1m89/89\u001b[0m \u001b[32m━━━━━━━━━━━━━━━━━━━━\u001b[0m\u001b[37m\u001b[0m \u001b[1m0s\u001b[0m 5ms/step - loss: 3985.0610 - mae: 39.1805 - val_loss: 4783.3433 - val_mae: 41.1631\n",
      "Epoch 13/200\n",
      "\u001b[1m89/89\u001b[0m \u001b[32m━━━━━━━━━━━━━━━━━━━━\u001b[0m\u001b[37m\u001b[0m \u001b[1m1s\u001b[0m 6ms/step - loss: 3728.2214 - mae: 39.0042 - val_loss: 4724.8306 - val_mae: 41.3324\n",
      "Epoch 14/200\n",
      "\u001b[1m89/89\u001b[0m \u001b[32m━━━━━━━━━━━━━━━━━━━━\u001b[0m\u001b[37m\u001b[0m \u001b[1m1s\u001b[0m 6ms/step - loss: 3837.2786 - mae: 38.7690 - val_loss: 4696.6978 - val_mae: 41.3705\n",
      "Epoch 15/200\n",
      "\u001b[1m89/89\u001b[0m \u001b[32m━━━━━━━━━━━━━━━━━━━━\u001b[0m\u001b[37m\u001b[0m \u001b[1m1s\u001b[0m 6ms/step - loss: 3457.3608 - mae: 38.2510 - val_loss: 4653.5459 - val_mae: 41.8232\n",
      "Epoch 16/200\n",
      "\u001b[1m89/89\u001b[0m \u001b[32m━━━━━━━━━━━━━━━━━━━━\u001b[0m\u001b[37m\u001b[0m \u001b[1m1s\u001b[0m 5ms/step - loss: 3811.0681 - mae: 39.5829 - val_loss: 4691.8535 - val_mae: 41.0419\n",
      "Epoch 17/200\n",
      "\u001b[1m89/89\u001b[0m \u001b[32m━━━━━━━━━━━━━━━━━━━━\u001b[0m\u001b[37m\u001b[0m \u001b[1m1s\u001b[0m 5ms/step - loss: 3842.3779 - mae: 38.4584 - val_loss: 4688.6675 - val_mae: 40.9996\n",
      "Epoch 18/200\n",
      "\u001b[1m89/89\u001b[0m \u001b[32m━━━━━━━━━━━━━━━━━━━━\u001b[0m\u001b[37m\u001b[0m \u001b[1m1s\u001b[0m 5ms/step - loss: 3763.0032 - mae: 37.8653 - val_loss: 4634.0298 - val_mae: 41.2810\n",
      "Epoch 19/200\n",
      "\u001b[1m89/89\u001b[0m \u001b[32m━━━━━━━━━━━━━━━━━━━━\u001b[0m\u001b[37m\u001b[0m \u001b[1m1s\u001b[0m 5ms/step - loss: 3732.3474 - mae: 38.5900 - val_loss: 4655.6392 - val_mae: 41.0541\n",
      "Epoch 20/200\n",
      "\u001b[1m89/89\u001b[0m \u001b[32m━━━━━━━━━━━━━━━━━━━━\u001b[0m\u001b[37m\u001b[0m \u001b[1m1s\u001b[0m 7ms/step - loss: 3653.2327 - mae: 37.0751 - val_loss: 4632.6870 - val_mae: 41.2467\n",
      "Epoch 21/200\n",
      "\u001b[1m89/89\u001b[0m \u001b[32m━━━━━━━━━━━━━━━━━━━━\u001b[0m\u001b[37m\u001b[0m \u001b[1m1s\u001b[0m 5ms/step - loss: 4242.5576 - mae: 38.3132 - val_loss: 4611.6016 - val_mae: 41.2341\n",
      "Epoch 22/200\n",
      "\u001b[1m89/89\u001b[0m \u001b[32m━━━━━━━━━━━━━━━━━━━━\u001b[0m\u001b[37m\u001b[0m \u001b[1m1s\u001b[0m 6ms/step - loss: 3623.7134 - mae: 37.5461 - val_loss: 4619.7778 - val_mae: 40.6831\n",
      "Epoch 23/200\n",
      "\u001b[1m89/89\u001b[0m \u001b[32m━━━━━━━━━━━━━━━━━━━━\u001b[0m\u001b[37m\u001b[0m \u001b[1m0s\u001b[0m 4ms/step - loss: 3885.2356 - mae: 38.1734 - val_loss: 4615.0264 - val_mae: 40.9829\n",
      "Epoch 24/200\n",
      "\u001b[1m89/89\u001b[0m \u001b[32m━━━━━━━━━━━━━━━━━━━━\u001b[0m\u001b[37m\u001b[0m \u001b[1m0s\u001b[0m 4ms/step - loss: 3663.8193 - mae: 37.9835 - val_loss: 4600.5327 - val_mae: 41.2636\n",
      "Epoch 25/200\n",
      "\u001b[1m89/89\u001b[0m \u001b[32m━━━━━━━━━━━━━━━━━━━━\u001b[0m\u001b[37m\u001b[0m \u001b[1m0s\u001b[0m 4ms/step - loss: 3798.2600 - mae: 37.5747 - val_loss: 4666.5659 - val_mae: 40.6780\n",
      "Epoch 26/200\n",
      "\u001b[1m89/89\u001b[0m \u001b[32m━━━━━━━━━━━━━━━━━━━━\u001b[0m\u001b[37m\u001b[0m \u001b[1m1s\u001b[0m 5ms/step - loss: 3715.9470 - mae: 37.9896 - val_loss: 4607.5566 - val_mae: 40.8051\n",
      "Epoch 27/200\n",
      "\u001b[1m89/89\u001b[0m \u001b[32m━━━━━━━━━━━━━━━━━━━━\u001b[0m\u001b[37m\u001b[0m \u001b[1m1s\u001b[0m 5ms/step - loss: 4066.6284 - mae: 38.2864 - val_loss: 4603.1260 - val_mae: 40.7995\n",
      "Epoch 28/200\n",
      "\u001b[1m89/89\u001b[0m \u001b[32m━━━━━━━━━━━━━━━━━━━━\u001b[0m\u001b[37m\u001b[0m \u001b[1m1s\u001b[0m 5ms/step - loss: 3468.0625 - mae: 36.6985 - val_loss: 4575.3115 - val_mae: 41.1955\n",
      "Epoch 29/200\n",
      "\u001b[1m89/89\u001b[0m \u001b[32m━━━━━━━━━━━━━━━━━━━━\u001b[0m\u001b[37m\u001b[0m \u001b[1m1s\u001b[0m 6ms/step - loss: 3745.0991 - mae: 37.3595 - val_loss: 4602.5659 - val_mae: 40.4998\n",
      "Epoch 30/200\n",
      "\u001b[1m89/89\u001b[0m \u001b[32m━━━━━━━━━━━━━━━━━━━━\u001b[0m\u001b[37m\u001b[0m \u001b[1m1s\u001b[0m 6ms/step - loss: 3764.8813 - mae: 37.7919 - val_loss: 4588.0571 - val_mae: 40.9014\n",
      "Epoch 31/200\n",
      "\u001b[1m89/89\u001b[0m \u001b[32m━━━━━━━━━━━━━━━━━━━━\u001b[0m\u001b[37m\u001b[0m \u001b[1m1s\u001b[0m 6ms/step - loss: 3451.1624 - mae: 36.9325 - val_loss: 4621.2471 - val_mae: 40.5859\n",
      "Epoch 32/200\n",
      "\u001b[1m89/89\u001b[0m \u001b[32m━━━━━━━━━━━━━━━━━━━━\u001b[0m\u001b[37m\u001b[0m \u001b[1m1s\u001b[0m 5ms/step - loss: 3079.7310 - mae: 35.9967 - val_loss: 4578.4956 - val_mae: 40.8504\n",
      "Epoch 33/200\n",
      "\u001b[1m89/89\u001b[0m \u001b[32m━━━━━━━━━━━━━━━━━━━━\u001b[0m\u001b[37m\u001b[0m \u001b[1m1s\u001b[0m 7ms/step - loss: 3369.0039 - mae: 36.7812 - val_loss: 4559.4312 - val_mae: 41.0351\n",
      "Epoch 34/200\n",
      "\u001b[1m89/89\u001b[0m \u001b[32m━━━━━━━━━━━━━━━━━━━━\u001b[0m\u001b[37m\u001b[0m \u001b[1m1s\u001b[0m 5ms/step - loss: 3974.9473 - mae: 38.0832 - val_loss: 4586.0532 - val_mae: 40.3405\n",
      "Epoch 35/200\n",
      "\u001b[1m89/89\u001b[0m \u001b[32m━━━━━━━━━━━━━━━━━━━━\u001b[0m\u001b[37m\u001b[0m \u001b[1m0s\u001b[0m 4ms/step - loss: 3392.4761 - mae: 36.8738 - val_loss: 4565.9727 - val_mae: 41.3068\n",
      "Epoch 36/200\n",
      "\u001b[1m89/89\u001b[0m \u001b[32m━━━━━━━━━━━━━━━━━━━━\u001b[0m\u001b[37m\u001b[0m \u001b[1m0s\u001b[0m 5ms/step - loss: 3486.1277 - mae: 36.2547 - val_loss: 4542.8022 - val_mae: 41.1935\n",
      "Epoch 37/200\n",
      "\u001b[1m89/89\u001b[0m \u001b[32m━━━━━━━━━━━━━━━━━━━━\u001b[0m\u001b[37m\u001b[0m \u001b[1m1s\u001b[0m 6ms/step - loss: 3278.9976 - mae: 36.9960 - val_loss: 4515.0503 - val_mae: 40.7193\n",
      "Epoch 38/200\n",
      "\u001b[1m89/89\u001b[0m \u001b[32m━━━━━━━━━━━━━━━━━━━━\u001b[0m\u001b[37m\u001b[0m \u001b[1m1s\u001b[0m 6ms/step - loss: 3313.4812 - mae: 37.5693 - val_loss: 4562.2930 - val_mae: 40.5517\n",
      "Epoch 39/200\n",
      "\u001b[1m89/89\u001b[0m \u001b[32m━━━━━━━━━━━━━━━━━━━━\u001b[0m\u001b[37m\u001b[0m \u001b[1m1s\u001b[0m 5ms/step - loss: 4130.7842 - mae: 37.8266 - val_loss: 4539.0283 - val_mae: 40.6267\n",
      "Epoch 40/200\n",
      "\u001b[1m89/89\u001b[0m \u001b[32m━━━━━━━━━━━━━━━━━━━━\u001b[0m\u001b[37m\u001b[0m \u001b[1m1s\u001b[0m 5ms/step - loss: 3410.3074 - mae: 36.9676 - val_loss: 4552.0781 - val_mae: 41.1522\n",
      "Epoch 41/200\n",
      "\u001b[1m89/89\u001b[0m \u001b[32m━━━━━━━━━━━━━━━━━━━━\u001b[0m\u001b[37m\u001b[0m \u001b[1m1s\u001b[0m 5ms/step - loss: 3447.5618 - mae: 37.0204 - val_loss: 4571.2983 - val_mae: 40.6135\n",
      "Epoch 42/200\n",
      "\u001b[1m89/89\u001b[0m \u001b[32m━━━━━━━━━━━━━━━━━━━━\u001b[0m\u001b[37m\u001b[0m \u001b[1m0s\u001b[0m 5ms/step - loss: 3191.4854 - mae: 36.6335 - val_loss: 4536.1172 - val_mae: 40.4680\n"
     ]
    },
    {
     "data": {
      "text/plain": [
       "<keras.src.callbacks.history.History at 0x12255174ca0>"
      ]
     },
     "execution_count": 24,
     "metadata": {},
     "output_type": "execute_result"
    }
   ],
   "source": [
    "model.fit(x=X_train_scaled,y=y_train.values,\n",
    "          validation_split=0.2,\n",
    "          validation_data=(X_test_scaled,y_test.values),\n",
    "          batch_size=64,\n",
    "          callbacks=[early_stop],\n",
    "          epochs=200,\n",
    "          verbose=1)"
   ]
  },
  {
   "cell_type": "code",
   "execution_count": 25,
   "id": "a34097d5-a553-4519-801e-3ddb0b33ce3e",
   "metadata": {},
   "outputs": [],
   "source": [
    "losses = pd.DataFrame(model.history.history)"
   ]
  },
  {
   "cell_type": "code",
   "execution_count": 27,
   "id": "58647ed8-073b-45e6-b5e0-14b724f82a1b",
   "metadata": {},
   "outputs": [
    {
     "data": {
      "text/plain": [
       "<Axes: >"
      ]
     },
     "execution_count": 27,
     "metadata": {},
     "output_type": "execute_result"
    },
    {
     "data": {
      "image/png": "[encoded data removed]",
      "text/plain": [
       "<Figure size 640x480 with 1 Axes>"
      ]
     },
     "metadata": {},
     "output_type": "display_data"
    }
   ],
   "source": [
    "losses[['loss','val_loss']].plot()"
   ]
  },
  {
   "cell_type": "code",
   "execution_count": 38,
   "id": "3f9d2506-3142-4996-90f7-19ecd11ec852",
   "metadata": {},
   "outputs": [
    {
     "name": "stdout",
     "output_type": "stream",
     "text": [
      "\u001b[1m45/45\u001b[0m \u001b[32m━━━━━━━━━━━━━━━━━━━━\u001b[0m\u001b[37m\u001b[0m \u001b[1m0s\u001b[0m 2ms/step\n"
     ]
    }
   ],
   "source": [
    "y_pred_nn = model.predict(X_test_scaled).flatten()"
   ]
  },
  {
   "cell_type": "code",
   "execution_count": 39,
   "id": "befd5b79-7990-4913-9abb-c7326197f257",
   "metadata": {},
   "outputs": [],
   "source": [
    "mae_nn = mean_absolute_error(y_test, y_pred_nn)\n",
    "rmse_nn = np.sqrt(mean_squared_error(y_test, y_pred_nn))\n",
    "r2_nn = r2_score(y_test, y_pred_nn)"
   ]
  },
  {
   "cell_type": "code",
   "execution_count": 40,
   "id": "3b7eca5a-f226-4ec5-a192-209a035c8917",
   "metadata": {},
   "outputs": [
    {
     "name": "stdout",
     "output_type": "stream",
     "text": [
      "📈 Neural Network Results:\n",
      "MAE:  40.72\n",
      "RMSE: 67.19\n",
      "R²:   0.56\n"
     ]
    }
   ],
   "source": [
    "print(\"📈 Neural Network Results:\")\n",
    "print(f\"MAE:  {mae_nn:.2f}\")\n",
    "print(f\"RMSE: {rmse_nn:.2f}\")\n",
    "print(f\"R²:   {r2_nn:.2f}\")"
   ]
  },
  {
   "cell_type": "code",
   "execution_count": 56,
   "id": "8518679a-4d21-428b-a057-3239c2e884c1",
   "metadata": {},
   "outputs": [
    {
     "data": {
      "text/plain": [
       "[<matplotlib.lines.Line2D at 0x1225c8f0d90>]"
      ]
     },
     "execution_count": 56,
     "metadata": {},
     "output_type": "execute_result"
    },
    {
     "data": {
      "image/png": "[encoded data removed]",
      "text/plain": [
       "<Figure size 640x480 with 1 Axes>"
      ]
     },
     "metadata": {},
     "output_type": "display_data"
    }
   ],
   "source": [
    "# Our predictions\n",
    "plt.scatter(y_test,y_pred_nn)\n",
    "\n",
    "# Perfect predictions\n",
    "plt.plot(y_test,y_test,'r')"
   ]
  },
  {
   "cell_type": "code",
   "execution_count": null,
   "id": "c6245908-57d1-4765-b256-38f75ae10540",
   "metadata": {},
   "outputs": [],
   "source": []
  },
  {
   "cell_type": "code",
   "execution_count": null,
   "id": "8a48b0b2-43fa-4d45-97a4-af953cb7fc24",
   "metadata": {},
   "outputs": [],
   "source": []
  }
 ],
 "metadata": {
  "kernelspec": {
   "display_name": "Python 3 (ipykernel)",
   "language": "python",
   "name": "python3"
  },
  "language_info": {
   "codemirror_mode": {
    "name": "ipython",
    "version": 3
   },
   "file_extension": ".py",
   "mimetype": "text/x-python",
   "name": "python",
   "nbconvert_exporter": "python",
   "pygments_lexer": "ipython3",
   "version": "3.10.18"
  }
 },
 "nbformat": 4,
 "nbformat_minor": 5
}
